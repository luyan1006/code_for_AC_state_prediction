{
 "cells": [
  {
   "cell_type": "code",
   "execution_count": 1,
   "id": "clear-booth",
   "metadata": {
    "ExecuteTime": {
     "end_time": "2021-08-19T14:05:50.515688Z",
     "start_time": "2021-08-19T12:09:20.471228Z"
    }
   },
   "outputs": [
    {
     "name": "stderr",
     "output_type": "stream",
     "text": [
      "C:\\Anaconda\\lib\\site-packages\\pandas\\core\\frame.py:1549: FutureWarning: Using short name for 'orient' is deprecated. Only the options: ('dict', list, 'series', 'split', 'records', 'index') will be used in a future version. Use one of the above to silence this warning.\n",
      "  warnings.warn(\n",
      "C:\\Anaconda\\lib\\site-packages\\xgboost\\sklearn.py:888: UserWarning: The use of label encoder in XGBClassifier is deprecated and will be removed in a future release. To remove this warning, do the following: 1) Pass option use_label_encoder=False when constructing XGBClassifier object; and 2) Encode your labels (y) as integers starting with 0, i.e. 0, 1, 2, ..., [num_class - 1].\n",
      "  warnings.warn(label_encoder_deprecation_msg, UserWarning)\n"
     ]
    },
    {
     "name": "stdout",
     "output_type": "stream",
     "text": [
      "[22:04:47] WARNING: C:/Users/Administrator/workspace/xgboost-win64_release_1.3.0/src/learner.cc:1061: Starting in XGBoost 1.3.0, the default evaluation metric used with the objective 'binary:logistic' was changed from 'error' to 'logloss'. Explicitly set eval_metric if you'd like to restore the old behavior.\n",
      "{'learning_rate': 0.05, 'max_depth': 7, 'n_estimators': 900} 0.7166906389764274\n"
     ]
    }
   ],
   "source": [
    "# -*- coding: utf-8 -*-\n",
    "import numpy as np\n",
    "import pandas as pd\n",
    "from pandas import DataFrame\n",
    "from sklearn.feature_extraction import DictVectorizer\n",
    "from sklearn.model_selection import GridSearchCV\n",
    "from sklearn.preprocessing import StandardScaler\n",
    "from xgboost.sklearn import XGBClassifier\n",
    "from imblearn.under_sampling import RandomUnderSampler\n",
    "from sklearn.metrics import accuracy_score\n",
    "from sklearn.metrics import precision_recall_curve\n",
    "from sklearn.metrics import f1_score, make_scorer\n",
    "from sklearn.metrics import f1_score\n",
    "from sklearn.metrics import confusion_matrix\n",
    "dfpre=pd.read_csv(r'C:\\luyan\\paper_code\\data\\hourly_for_pre_wm.csv')\n",
    "\n",
    "\n",
    "\n",
    "dfpre['thermal']=dfpre['thermal_type'].astype(str)\n",
    "dfpre['schedule']=dfpre['schedule_type'].astype(str)\n",
    "dfpre['daytype'].replace(['work','rest'],['1','0'],inplace=True)\n",
    "dfpre['workday']=dfpre['daytype'].astype(str)\n",
    "dfpre['hour']=dfpre['hour'].astype(str)\n",
    "\n",
    "\n",
    "\n",
    "\n",
    "\n",
    "dfselx0=dfpre[['thermal','schedule','workday','tout','hour','id','state']]\n",
    "\n",
    "\n",
    "\n",
    "id_total=dfpre['id'].drop_duplicates()\n",
    "id_train_70=dfpre['id'].drop_duplicates().sample(frac=0.7,random_state=123)\n",
    "id_test_30=pd.concat([id_total, id_train_70, id_train_70]).drop_duplicates(keep=False)\n",
    "dfselxtrain0=pd.merge(id_train_70,dfselx0,on='id')\n",
    "\n",
    "\n",
    "\n",
    "dfytrain=dfselxtrain0['state'].values\n",
    "y_train=np.array(dfytrain)\n",
    "\n",
    "\n",
    "\n",
    "dfselxtrain=dfselxtrain0[['thermal','schedule','workday','tout','hour']]\n",
    "\n",
    "\n",
    "dfxtrain=dfselxtrain\n",
    "dfxtrain=dfxtrain.to_dict(orient='record')\n",
    "v = DictVectorizer(sparse=False)\n",
    "dfxtrain= v.fit_transform(dfxtrain)\n",
    "scaler=StandardScaler().fit(dfxtrain)\n",
    "x_train=scaler.transform(dfxtrain)\n",
    "\n",
    "\n",
    "\n",
    "\n",
    "\n",
    "column=v.get_feature_names()\n",
    "\n",
    "\n",
    "rus = RandomUnderSampler(random_state=123)\n",
    "x_resampled, y_resampled = rus.fit_sample(x_train, y_train)\n",
    "\n",
    "f1_scorer = make_scorer(f1_score) \n",
    "\n",
    "\n",
    "param_test2={'n_estimators':range(100,1001,200),'learning_rate':[0.001, 0.01, 0.05, 0.1],'max_depth':range(3,11,2)}\n",
    "\n",
    "other_params = {'min_child_weight': 5, 'seed': 0,\n",
    "                            'subsample': 0.9, 'colsample_bytree': 0.7, 'gamma': 0.5, 'reg_alpha': 10, 'reg_lambda': 10}\n",
    "\n",
    "model = XGBClassifier(**other_params)\n",
    "\n",
    "gsearch2 = GridSearchCV(estimator=model,param_grid=param_test2,scoring=f1_scorer,cv=5,n_jobs=6)\n",
    "gsearch2.fit(x_resampled, y_resampled)\n",
    "\n",
    "\n",
    "print (gsearch2.best_params_, gsearch2.best_score_)"
   ]
  },
  {
   "cell_type": "code",
   "execution_count": null,
   "id": "narrow-trick",
   "metadata": {},
   "outputs": [],
   "source": []
  }
 ],
 "metadata": {
  "kernelspec": {
   "display_name": "Python 3",
   "language": "python",
   "name": "python3"
  },
  "language_info": {
   "codemirror_mode": {
    "name": "ipython",
    "version": 3
   },
   "file_extension": ".py",
   "mimetype": "text/x-python",
   "name": "python",
   "nbconvert_exporter": "python",
   "pygments_lexer": "ipython3",
   "version": "3.8.3"
  },
  "varInspector": {
   "cols": {
    "lenName": 16,
    "lenType": 16,
    "lenVar": 40
   },
   "kernels_config": {
    "python": {
     "delete_cmd_postfix": "",
     "delete_cmd_prefix": "del ",
     "library": "var_list.py",
     "varRefreshCmd": "print(var_dic_list())"
    },
    "r": {
     "delete_cmd_postfix": ") ",
     "delete_cmd_prefix": "rm(",
     "library": "var_list.r",
     "varRefreshCmd": "cat(var_dic_list()) "
    }
   },
   "types_to_exclude": [
    "module",
    "function",
    "builtin_function_or_method",
    "instance",
    "_Feature"
   ],
   "window_display": false
  }
 },
 "nbformat": 4,
 "nbformat_minor": 5
}
