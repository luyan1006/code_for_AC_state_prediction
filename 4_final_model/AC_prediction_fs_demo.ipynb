{
 "cells": [
  {
   "cell_type": "code",
   "execution_count": 3,
   "id": "conservative-occupation",
   "metadata": {
    "ExecuteTime": {
     "end_time": "2021-08-20T10:26:23.565425Z",
     "start_time": "2021-08-20T10:26:23.400885Z"
    },
    "scrolled": false
   },
   "outputs": [
    {
     "name": "stderr",
     "output_type": "stream",
     "text": [
      "C:\\Anaconda\\lib\\site-packages\\pandas\\core\\frame.py:1549: FutureWarning: Using short name for 'orient' is deprecated. Only the options: ('dict', list, 'series', 'split', 'records', 'index') will be used in a future version. Use one of the above to silence this warning.\n",
      "  warnings.warn(\n"
     ]
    }
   ],
   "source": [
    "import pandas as pd\n",
    "import joblib\n",
    "from sklearn.feature_extraction import DictVectorizer\n",
    "v=joblib.load('v_fs.joblib')\n",
    "scaler=joblib.load('scaler_fs.joblib')\n",
    "xgb1=joblib.load('xgb_fs_pre.joblib')\n",
    "dfpre=pd.read_csv('demo_fs.csv')\n",
    "\n",
    "dfpre['thermal']=dfpre['thermal_type'].astype(str)\n",
    "dfpre['schedule']=dfpre['schedule_type'].astype(str)\n",
    "dfpre['daytype'].replace(['work','rest'],['1','0'],inplace=True)\n",
    "dfpre['workday']=dfpre['daytype'].astype(str)\n",
    "dfpre['hour']=dfpre['hour'].astype(str)\n",
    "\n",
    "dfxtest=dfpre[['thermal','schedule','workday','tout','hour']]\n",
    "dfxtest\n",
    "\n",
    "dfxtest=dfxtest.to_dict(orient='record')\n",
    "dfxtest= v.transform(dfxtest)\n",
    "dfxtest\n",
    "\n",
    "x_test=scaler.transform(dfxtest)\n",
    "\n",
    "ypre=xgb1.predict(x_test)\n",
    "dfpre['state']=list(ypre)\n",
    "dfpre.to_csv('demo_fs_model_result.csv')"
   ]
  },
  {
   "cell_type": "code",
   "execution_count": null,
   "id": "suspected-clearance",
   "metadata": {},
   "outputs": [],
   "source": []
  }
 ],
 "metadata": {
  "kernelspec": {
   "display_name": "Python 3",
   "language": "python",
   "name": "python3"
  },
  "language_info": {
   "codemirror_mode": {
    "name": "ipython",
    "version": 3
   },
   "file_extension": ".py",
   "mimetype": "text/x-python",
   "name": "python",
   "nbconvert_exporter": "python",
   "pygments_lexer": "ipython3",
   "version": "3.8.3"
  },
  "varInspector": {
   "cols": {
    "lenName": 16,
    "lenType": 16,
    "lenVar": 40
   },
   "kernels_config": {
    "python": {
     "delete_cmd_postfix": "",
     "delete_cmd_prefix": "del ",
     "library": "var_list.py",
     "varRefreshCmd": "print(var_dic_list())"
    },
    "r": {
     "delete_cmd_postfix": ") ",
     "delete_cmd_prefix": "rm(",
     "library": "var_list.r",
     "varRefreshCmd": "cat(var_dic_list()) "
    }
   },
   "types_to_exclude": [
    "module",
    "function",
    "builtin_function_or_method",
    "instance",
    "_Feature"
   ],
   "window_display": false
  }
 },
 "nbformat": 4,
 "nbformat_minor": 5
}
